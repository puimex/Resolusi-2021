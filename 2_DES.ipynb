{
  "nbformat": 4,
  "nbformat_minor": 0,
  "metadata": {
    "colab": {
      "name": "2 DES.ipynb",
      "provenance": []
    },
    "kernelspec": {
      "name": "python3",
      "display_name": "Python 3"
    },
    "language_info": {
      "name": "python"
    }
  },
  "cells": [
    {
      "cell_type": "markdown",
      "metadata": {
        "id": "SaCHrmF7-hVY"
      },
      "source": [
        "# **2 DES**"
      ]
    },
    {
      "cell_type": "markdown",
      "metadata": {
        "id": "Vhos4_Cr-0uT"
      },
      "source": [
        "**Install Library**"
      ]
    },
    {
      "cell_type": "code",
      "metadata": {
        "colab": {
          "base_uri": "https://localhost:8080/"
        },
        "id": "oAR4jcvk-gLS",
        "outputId": "16fdeb8a-1af4-43a9-aefa-d3d37c27ab66"
      },
      "source": [
        "%pip install pycryptodome\n",
        "%pip install \"pycryptodome==3.9.7\""
      ],
      "execution_count": 1,
      "outputs": [
        {
          "output_type": "stream",
          "text": [
            "Collecting pycryptodome\n",
            "\u001b[?25l  Downloading https://files.pythonhosted.org/packages/ad/16/9627ab0493894a11c68e46000dbcc82f578c8ff06bc2980dcd016aea9bd3/pycryptodome-3.10.1-cp35-abi3-manylinux2010_x86_64.whl (1.9MB)\n",
            "\u001b[K     |████████████████████████████████| 1.9MB 6.9MB/s \n",
            "\u001b[?25hInstalling collected packages: pycryptodome\n",
            "Successfully installed pycryptodome-3.10.1\n",
            "Collecting pycryptodome==3.9.7\n",
            "\u001b[?25l  Downloading https://files.pythonhosted.org/packages/1b/79/f2a9bb60abd1ccd34006bab9a6ebbe03abe8c660366d20be390b85277fb1/pycryptodome-3.9.7-cp37-cp37m-manylinux1_x86_64.whl (13.7MB)\n",
            "\u001b[K     |████████████████████████████████| 13.7MB 203kB/s \n",
            "\u001b[?25hInstalling collected packages: pycryptodome\n",
            "  Found existing installation: pycryptodome 3.10.1\n",
            "    Uninstalling pycryptodome-3.10.1:\n",
            "      Successfully uninstalled pycryptodome-3.10.1\n",
            "Successfully installed pycryptodome-3.9.7\n"
          ],
          "name": "stdout"
        }
      ]
    },
    {
      "cell_type": "markdown",
      "metadata": {
        "id": "cTJ1zZBf-9XL"
      },
      "source": [
        "**Import Ribrary**"
      ]
    },
    {
      "cell_type": "code",
      "metadata": {
        "id": "XnKcoE-O-_-L"
      },
      "source": [
        "from Crypto.Cipher import AES\n",
        "from Crypto.Util.Padding import pad, unpad\n",
        "import binascii"
      ],
      "execution_count": 2,
      "outputs": []
    },
    {
      "cell_type": "code",
      "metadata": {
        "colab": {
          "base_uri": "https://localhost:8080/"
        },
        "id": "BK5EStiG_C-k",
        "outputId": "fab69eac-49e3-4ceb-e3a5-14ae520b0a79"
      },
      "source": [
        "# encryption\n",
        "\n",
        "from Crypto.Cipher import DES\n",
        "from Crypto.Util.Padding import pad\n",
        "\n",
        "data='Terpisah oleh jarak dalam pembelajaran jarak jauh, guru tak bisa memantau siswa sebaik ketika kegiatan belajar mengajar dilakukan di kelas. Tapi inilah saat yang tepat untuk mendorong siswa agar belajar secara mandiri. Apa sebabnya?1. Kesempatan untuk Belajar tentang Bagaimana Caranya Belajar Tak bisa dipungkiri, sebagian pembelajaran di kelas bertujuan untuk mempersiapkan siswa menghadapi ujian. Maka ketika mendapat kesempatan untuk belajar secara mandiri, siswa menjalani proses sendiri untuk menemukan caranya belajar – bukan semata-mata untuk persiapan ujian. 2. Fokus Belajar secara Mandiri Terletak pada Proses Alih-alih fokus pada tujuan, sebagaimana pembelajaran di kelas, belajar secara mandiri membuat siswa lebih memperhatikan proses belajar yang dijalaninya. Banyak tokoh dunia yang menginspirasi dengan proses jatuh bangun yang mereka alami sebelum akhirnya meraih kesuksesan. Maka menjalani proses belajarnya sendiri merupakan pengalaman berharga bagi siswa. 3. Fleksibilitas Belajar untuk Tingkat Intelegensi yang Berbeda Sebagai guru, menyamakan tempo belajar di kelas sudah menjadi tugas sehari-hari. Masing-masing siswa memang memiliki kecepatan belajar yang berbeda. Namun melalui belajar secara mandiri, setiap siswa memiliki kesempatan untuk belajar sesuai dengan tempo belajarnya sendiri. 4. Siswa Mengembangkan Berbagai Life Skills, Termasuk Manajemen Waktu Pembelajaran di kelas memberi kenyamanan bagi siswa karena tak ada distraksi yang berarti. Belajar dalam suasana di luar kelas, sebaliknya, menuntut siswa untuk pandai-pandai merencanakan, memilih prioritas, bahkan mengejar tenggat ditengah bermacam distraksi yang ada. Keterampilan menghadapi berbagai tantangan belajar ini akan dibutuhkan pada masa mereka berada dunia kerja nantinya. 5. Siswa Belajar Sesuai dengan Minatnya Sendiri Ada siswa yang belajar karena tuntutan eksternal dari sekolah. Ada pula siswa yang belajar karena minat, motivasi yang tumbuh dari dalam dirinya sendiri. Bila didasari oleh minat sendiri, seperti pada belajar mandiri, hasil belajar siswa tentu lebih baik lagi.6. Siswa Mengenali Kelebihan dan Kekurangannya Sendiri Seiring belajarnya secara mandiri, siswa memiliki kesempatan untuk mengenal dirinya sendiri dengan lebih baik. Maka seiring waktu, siswa dapat mengenali kelebihan dan kekurangannya.Belajar secara mandiri merupakan proses belajar yang jauh dari kenyamanan dan kesempurnaan, jauh dari suasana di kelas. Saat belajar secara mandiri, tak jarang siswa harus terantuk batu hingga berulang kali. Namun tempaan ketidaknyamanan seperti inilah yang membuat siswa menjadi pembelajar tangguh sepanjang hayatnya.'\n",
        "data = data.replace(\" \", \"\")\n",
        "\n",
        "print(\"\\nPlainteks tanpa spasi\\n\")\n",
        "print(data)\n",
        "\n",
        "# 8 byte block \n",
        "key = b'yudhairm' \n",
        "\n",
        "# Menetapkan panjang data yang akan dienkripsi\n",
        "BLOCK_SIZE = 32 \n",
        "\n",
        "des = DES.new(key, DES.MODE_ECB)\n",
        "padded_text = pad(data.encode(), BLOCK_SIZE)\n",
        "encrypted_text = des.encrypt(padded_text)\n",
        "\n",
        "print(\"\\nEnkripsi\\n\")\n",
        "print(encrypted_text)\n",
        "\n",
        "# decryption\n",
        "key = b'yudhairm' # 8 byte block\n",
        "des = DES.new(key, DES.MODE_ECB)\n",
        "decrypted_text = des.decrypt(encrypted_text)\n",
        "\n",
        "print(\"\\nDekripsi\\n\")\n",
        "print(decrypted_text.decode())\n"
      ],
      "execution_count": 3,
      "outputs": [
        {
          "output_type": "stream",
          "text": [
            "\n",
            "Plainteks tanpa spasi\n",
            "\n",
            "Terpisaholehjarakdalampembelajaranjarakjauh,gurutakbisamemantausiswasebaikketikakegiatanbelajarmengajardilakukandikelas.Tapiinilahsaatyangtepatuntukmendorongsiswaagarbelajarsecaramandiri.Apasebabnya?1.KesempatanuntukBelajartentangBagaimanaCaranyaBelajarTakbisadipungkiri,sebagianpembelajarandikelasbertujuanuntukmempersiapkansiswamenghadapiujian.Makaketikamendapatkesempatanuntukbelajarsecaramandiri,siswamenjalaniprosessendiriuntukmenemukancaranyabelajar–bukansemata-matauntukpersiapanujian.2.FokusBelajarsecaraMandiriTerletakpadaProsesAlih-alihfokuspadatujuan,sebagaimanapembelajarandikelas,belajarsecaramandirimembuatsiswalebihmemperhatikanprosesbelajaryangdijalaninya.Banyaktokohduniayangmenginspirasidenganprosesjatuhbangunyangmerekaalamisebelumakhirnyameraihkesuksesan.Makamenjalaniprosesbelajarnyasendirimerupakanpengalamanberhargabagisiswa.3.FleksibilitasBelajaruntukTingkatIntelegensiyangBerbedaSebagaiguru,menyamakantempobelajardikelassudahmenjaditugassehari-hari.Masing-masingsiswamemangmemilikikecepatanbelajaryangberbeda.Namunmelaluibelajarsecaramandiri,setiapsiswamemilikikesempatanuntukbelajarsesuaidengantempobelajarnyasendiri.4.SiswaMengembangkanBerbagaiLifeSkills,TermasukManajemenWaktuPembelajarandikelasmemberikenyamananbagisiswakarenatakadadistraksiyangberarti.Belajardalamsuasanadiluarkelas,sebaliknya,menuntutsiswauntukpandai-pandaimerencanakan,memilihprioritas,bahkanmengejartenggatditengahbermacamdistraksiyangada.Keterampilanmenghadapiberbagaitantanganbelajariniakandibutuhkanpadamasamerekaberadaduniakerjanantinya.5.SiswaBelajarSesuaidenganMinatnyaSendiriAdasiswayangbelajarkarenatuntutaneksternaldarisekolah.Adapulasiswayangbelajarkarenaminat,motivasiyangtumbuhdaridalamdirinyasendiri.Biladidasariolehminatsendiri,sepertipadabelajarmandiri,hasilbelajarsiswatentulebihbaiklagi.6.SiswaMengenaliKelebihandanKekurangannyaSendiriSeiringbelajarnyasecaramandiri,siswamemilikikesempatanuntukmengenaldirinyasendiridenganlebihbaik.Makaseiringwaktu,siswadapatmengenalikelebihandankekurangannya.Belajarsecaramandirimerupakanprosesbelajaryangjauhdarikenyamanandankesempurnaan,jauhdarisuasanadikelas.Saatbelajarsecaramandiri,takjarangsiswaharusterantukbatuhinggaberulangkali.Namuntempaanketidaknyamanansepertiinilahyangmembuatsiswamenjadipembelajartangguhsepanjanghayatnya.\n",
            "\n",
            "Enkripsi\n",
            "\n",
            "b'*\\xdc\\x8b\\xb2,\\xe98d\\xfd\\xda\\xd8\\t\\xb0\\x92\\xd6T\\xa2|t\\\\\\xab\\xbdu*\\x88\\x9dQ\\x9e\\xac\\x10\\xa0\\x88j\\xad\\xa8\\xcc\\xb9[\\xc7\\xd0^1\\xaf\\x86\\xa0\\xfc\\xab\\x16H\\xe9\\x94\\xd8(\\xc8@\\xf1\\x1dx\\xcc\\n\\xf6.\\x9c\\xb1-\\xaf\\x8e\\x81\\xe7dN$\\xb5\\x8f\\xc1:XR\\xe2X\\xc2\\x8e\\x1a\\x15$\\x08f\\xfe|\\xf0w\" 7\\x98\\x0b\\x0c\\xaf\\\\D\\xa0M?g\\xac\\x14\\x9f\\xaf3\\x14\\xa4\\x16\\xcamw\\xde\\x07\\x001\\x8c[\\x9cWy\\xb9\\xc8A\\xa1\\xd9~\\xed\\xd9\\x05V\\x9b\\xcds\\xf8\\xe3\\xe9l`B\\xd6\\xf7\\x92L\\x86\\xa9P\\x1a\\x05\\n\\xd7\\xc9\\x1d\\xf7\\xf4\\x8d\\xbdV(\\x061\\x81s*t\\xa3\\xb7\\x00\\x16\\xc6^\\xd6zS\\xf9\\x13\\xd7FY8\\xa2Z8\\xef\\x8f\\xb2\\x0e\\x94\\xd8|(\\xa1F\\x8a\\x08\\x85F)\\xb3\\x98\\xa4I\\x16#\\xe6\\xacz\\xf8\\xe1\\x14\\x8dW|1\\x1e\\xa1\\xfd1\\xc2\\xc4\\x80(\\x89\\xe0\\xf2\\\\jJ\\xa1P\\xa6\\xb3a\\x03\\x00\\xeaT\"\\xf3\\xbe\\\\\\xec\\x8d\\xb7\\x0f!\\x03\\xceX !{nH\\xf6\\xf6\\xe1\\x0b\\xd5r\\x16\\xd3h\\xa5<\\xf6\\xb7=o\\x9e\\xef\\xdf\\x92O\\xcb\\xcc\\xeb\\x93h\\x90\\xc5\\x9a\\x9e\\xaa\\x16-zx\\xc7\\xb7\\x10]\\xb5pz\\xfaY(\\xc1,\\xb3\\xbb\\x99\\x06\\xb7N 1\\x95\\xa4\\xe4\\xbd>\\xed\\xfb\\xd8syL\\xac\\x8e\\xdf|\\xb3\\xdez\\xfc\\x86\\xedWD\\x86s\\x92=G\"~\\x1aqX\\xe1\\x0b\\xd00i\\x08\\x97\\x8e/\\xe2\\x95\\xcd\\xbcG\\xb0\\x90\\xf0y,B@\\xd8\\x9f5<y\\x88\\xe4\\x0c\\x1fZ]og\\xae\\xf5\\x89\\x92\\xf6\\x9d\\xd8\\xbd\\xb5\\x98n,{\\x841\\x1a\\xbe\\x18\\xf0\\xe93T\\xaag\\xe5\\xea8\\xde\\xc3\\x14\\xbeL\\xb1\\x90\"\\xe8\\xf1\"\\xc8\\x987\\x0e\\x8f\\x93\\x8aD7\\xb2\\x17\\x8f\\r4\\xbc\\x12@)\\xc4\\xd6Ih\\xa4\\x1a\\xf9c\\x99$\\x98\\xbal\\x98\\xd4}\\xa6\\x12\\x1f\\x01\\xc9\\xb5\\xbb\\xd2\\x06\\xd5At\\x95\\x17f\\xc9\\x16\\xdfs\\x8c\\xf2\\xcdcD\\x9b`\\xd68\\x02Z+\\xdc\\x99\\x05X\\xe9\\xd1\\xb9\\\\-!\\x8f\\xb0>k\\xd4,\\xc2U\\xcb\\xfb{sb`\\xd4\\x8d\\x93\\xd3\\x9es\\xff\\r\\x92s\\x11\\xee|\\xc0_\\xf5+\\x08\\x1a\\xbb6\\x19\\xa7\\rb\\xd4\\xa9\\xf0\\xabD\\xe3`\\x98\\xac{\\xd8u\\xb1\\xf4.>\\xaf\\xd9\\xde\\xb3\\x17Z1\\xa0\\x8e\\x80\\r\\\\#n\\x90\\xac\\xeb\\xcf\\x0en\\xeb\\xf8\\xb6\\xab\\xf9P\\xaf\\x1d\\xaev\\x93h\\x90\\xc5\\x9a\\x9e\\xaa\\x16-zx\\xc7\\xb7\\x10]\\xb5Eq\\xe17\\x94\\x1c\\xce\\xac\\xd8\\xbd\\xb5\\x98n,{\\x84\\xc3\\'\\xc4\\xfe\\xc9~.G\\xd3:,\\x11\\xc4\\x13\\x81\\xf0\\xe1\\xf2\\x8be\\x02\\x86\\xcb\\x0e\\x9d\\xa2\\xaf\\xa8^\\xb8_-\\xb4\\xea\\xde\\xb5w\\xe0_\\xa1\\x04@\\x8d\\xc9G\\xf9Z\\xe4mT\\x94\\xfd\\xf8G\\xdd5o\\xde;\\xdf\\xe4\\xbc\\xb0\\xa63\\x1c\\x07\\x92h6D\\xa3\\xfb1K^\\xb3\\xfa*$\\xecO\\xcfq\\xcb\\xdf\\x1a\\xee\\xcd\\xef\\xbe\\xaf\\xe2\\xd87*\\xd4d{\\x97\\xc3\\xf6\\x95\\x17\\xcdj\\x9d\\x10\\xe6(q[B\\xfb\\x15\\x7fMv \\xbbk\\x0b\\xba\\xa5\\x03\\x96\\xe3\\xc9\\x84EsG\\xcf\\x0cJ\"\\x1b\\xfe\\xce\\xfc\\xd7\\xd0?\\x935\\xce\\x11\\n\\x7fb\\xc7\\xe4\\x89\\xa7:\\xa5B$\\'\\xac\\xac\\xa7\\xf3$t\\x87\\x9a\\xb8\\xf4\\x1c\\x14\\xcc\\xf1mb\\x03\\xbeL\\xb1\\x90\"\\xe8\\xf1\"/h\\xf7\\xceg\\x02\\xe6QUN\\xf5\\x00\\xe8\\xbb/\\xdfH\\x7f\\xf0#\\xd2\\xe9O2\\x14\\xcc\\xa4\\xf4a\\x1a#\\x1c\\xcb\\xaaSH\\x15q\\xdaI{ON\\xe7\\x90\\xc0\\x06\\xcd\\xe3p,\\xdcE\\xcd\\x8c0\\xac\\xb4\\xed\\x12\\x03c\\xbf\\x01\\x07\\x9aR\\xd7\\xaf\\xd4\\n\\xb4\\x9d\\x85\\x99\\x08?E0\\\\+A\\xef\\x9c\\x16W\\xfbGc\\xe90x\\xeb9T\\xa4\\xcb\\x81\\x93,\\xb3`V\\xd1\\xac\\x82\\x07\\x0c\\xe9.\\xc1{\\x1cn\\xc4\\xac^\\xed\\xd2`\\x13\\xf1\\x97\"y\\x9eG0\\x9f<\\xec\\xb5\\xfc\\xdd\\x08\\xf0-\\x13h!\\xa7\\xaau\\xe3\\x02c\\xddS\\x1e|]\\xd2\\xbb2\\xe2\\xfd\\xa1\\xe7\\xe1;6\\xb0qU\\xae\\x06\\x97b\\xc4\\xb3T\\x82\\x93\\x8fU\\x07i\\xdc\\xf3\\xd4\\xc6\\x8b\\x86\\x7f=\\xb2\\x81\\xcf\\xab\\xa8\\xe4V\\xebm\\xf2 vG\\xfe\\x14\\x8b\\xc4\\xa1\\xe6^\\x83)<a\\xf1\\xaf\\x92\\xf5\\xe9\\xf83\\xa3\\x02\\xc7\\xe7\\xcc.\\x19\\xf6E\\x98\\x83b\\xca\\xed\\xf3\\xb1\\x9f\\xcc\\x82\\xab\\xbb@\\xf3zt({\\xbf\\x0e\\x8c\"iG\\xe9\\x87\\x8c<\\x89\\xa9\\xcd\\x8c\\x9cI\\x9bQN\\r\\x0e\\xec9\\xc7\\xf7\\xb4\\xd3\\xec\\xceP\\xcc\\xf3\\xfe\\xac\\x06\\x8f\\xfa\\xbf\\x7fn\\xe2\\x8eZ\\xbf\\x91a\\xf1\\xaf\\x92\\xf5\\xe9\\xf83\\xb1\\xa7\\xbdu\\x9d^2\\xfbI\\x88I\\xf4j8Y\\xcf\\x80B=\\xd7\\x88\\xad#VT\\x8b[nY\\'\\x95xL\\xda\\x19\\x8dt\\x04\\xa4\\x05$\\\\1\\xd3\\xfdI\\x93(\\xfa^\\x86\\x1aC}\\xfa\\xba\\x14\\x9b\\\\oUU]M\\xddGM\\x88>\\xbd\\x8c\\x0c\\xd8MA\\x9b\\xdbJ\\x9e\\xe0\\xc3E(9\\xc6-\\xa1\\xfc \\x02\\xed\\x83\\xc0\\xc0\\xd3\\x14a\\xb4\\x95)\\x83\\x9a\\xc7\\x9d\\xe4\\xcaSo\\xe7}\\r\\x9aOCCp\\xc3&\\x0f\\xd7\\x88\\x9dQ\\x9e\\xac\\x10\\xa0\\x88\\xa6\\xf2\\x891\\xba\\x10\\x91s\\xec<\\xc3\\x8e\\xc6\\x1f\\xe5\\x10\\xc6&\\xe7=\\xd1\\xf6^\\x9d;\\xcf\\x98-\\xb8\\x00 ]R\\xbd\\x88\\x16{\\xb4\\x14<\\xeab.\\x94\\xfc\\xad\\xa3 o\\x94\\x03\\xb3\\xba\\xca\\x94\\xf2\\x02\\xe4\\x9c\\x0fs\\xff\\xf7(\\x82\\xe1\\x18\\x1bF:\\xe9\\x9d\\xf3\\xab\\xc1-I^:\\x00\\xe5\\xde\\x82\\xde#%\\xeet\\xce\\x03\\xf5\\xaa\\xf4\\x12K\\xe4\\xe8\\xd9\\xf3\\xeaPU_G\\xe0m\\xbe\\xca\\x84?\\xfbz\\xec\\rJ \\x84\\x86\\x9bOy\\x83\\xd2Cb\\xe6\\x8fu\\xce\\xe8{\\x9e\\xae:\\x8d\\x04\\x19\\x8e\\x81&q\\x17J\\x88\\xc9\\xffg\\xda\\x9d\\x170\\xd5\\xce[\\xef\\xb8\\xfa\\x88\\xd6*\\x14\\xb3y\\'.\\x1b\\xb6E\\x9c\\x8d\\x97\\x92\\xb62\\xa1\\xf2\\xda\\xa1\\x9a\\xf11\\xe9}\":N\\xa4\\x02x\\x85\\xe7\\x05\\xf4!\\x9f\\x03m$\\x15\\xf7\\xf7w\\x93r0\\xc0\\xcf/\\xc1O\\xc0f\\xfet2J\\x14\\x15\\x04>\\x087\\x92\\xc1Y28\\xccj\\x0f-e\\x89Fc\\x02$2\\xaa\\xaf\\x98\\x1ejG\\x9e\\x81F\\x9e\\xed\\xb8\\xeb \\xfa\\xb8\\x12HO\\x1c\\xbcQ\\x14\\xa1\\x082\\xff\\xa6\\xf1]\\xb4\\xea\\x93\\xf3y[\\xed\\x10\\xd3\\xaafj\\x1f\\xc5ib\\xbe\\x85\\x82\\x90\\xd0\\xe0\\x87&\\xbb)\\xa8@v~7\\x13\\x9d\\x8c\\xa2,\\xf7C\\xad\\x03\\xad\\\\\\xc0\\xbf\\xf2s\\xa6\\xe3\\x8a2\\xc1\\x17\\xc5\\xf1m<\\xa6`\\r\\xb7\\xe2\\xa2\\xd4\\xe3\\xc7\\x85\\'\\x0fI\\xfd!\\xe8\\x80bfH-\\x12/L*\\x17\\xbe\\xc7\\\\\\\\,.\\x0f\\x9a\\x13?1\\xb7|\\x18\\x99-E\\xee\\xf6a\\xc2\\x03\\xe8\\x82\\xbe\\xf9\\xd7\\xca5\\xec=N\\n\\x7f1\\xbf\\xb6\\xe7T\\xb0`=Y\\x93\\xd4\\x8c\\x0b`|oV\\xa5`\\xb5\\x1annVc\\xd7Hha\\xe4/g,\\xfbavo\\x86\\xe0\\xc1 \\xc4\\xb1\\x99\\xeb>\\xc3\\xb0nyp\\rw\\x99\\x84\\xb9\\x8c\\xde\\xb5`l\\xe8\\x7f\\xb7@\\xf6L\\xfd\\xa5;\\xf4\\x06\\xfam\\x19\\x93\\xc8Q\\x17\\xa9\\xf3\\xca\\x0b\\xe2b\\x9c2\\xef\\x87\\xf5\\xe5\\xea95Yr\\xf7\\xb8\\xbd\\xd2=?\\x85\\xf3\\x12\\x0b\\xa5_\\xbe\\xde\\xbe`\\xb5M\\xa6\\xc7\\xd6\\xa1\\x0b\\xd3\\xb0\\r\\x7f\\xfe\\x15\\xf2\\x1dl\\xc4v6\\xd0{7\\x80\\x9eQ\\xd0A\\xef\\xd3\\xc9TK\\x812\\x81|\\xb7\\x91\\xdf<\\xbfL\\x0b\\xcfI\\xe6\\xc5\\x80\\xf6\\xbb\\x1d)r\\x95[\"\\x0fBz\\x115j\\xee\\xab\\xc6\\x9c\\xee\\xca\\x88\\x1et\\xd8BZ\\xc1(\\x94\\xa9\\xd8\\xac\\xf7\\\\\\x865\\xce+!\\xfa\\xc8.8\\xd5\\xe9,\\xceo)\\xf7X\\x82-\\xef\\xca\\xc4T\\r\\x84\\xf5\\xac$\\xebX\\xb1\\x00\\xe1\\xc3\\xd7\\x1a\\xaa\\xce\\x1d\\x82\\\\\\xbc(\\xa2\\xb3\\xd7\\xb8\\xdbO\\xfd\\xcc\\xc52\\x9d\\x07\\xa4\\x86\\x04\\nKt\\xe6\\xd3\\xf4\\xd83\\xfb\\x14&$\\x8fcJ\\x88`\\xb5\\xb9D\\xec9\\xc7\\xf7\\xb4\\xd3\\xec\\xce\\x9e\\xb3}\\x9f\\x9fI\\xce\\xc5H\\x1d\\xe4\\xc3G.\\xc8\\x81\\xc0\\xc2\\x0b\\x19\\x12\\xa1\\x16\\x0e\\x8f\\xb8\\xe95\\xdf\\x7f\\xdc\\x15\\xef\\x11\\xa6NN\\xd2\\xaeM\\tD2\\x92$\\xac\\'\\x08\\x12B!\\x03{\\xb5+g\\xf27\\x07=\\r_\\x17\\x80\\xaf\\x85~\\xcf\\x1fi\\xb7U\\xa2\\xbc\\xe9\\xf4\\xd89\\xcf\\x92\\xd9\\xa0\\xfe\\xd2\\xe7e\\x05\\xef\\t\\xdb<Bz\\x91\\xc6\\xe0\\xa8\\x14r>y(\\'\\x93-\\xf0\\x93FNU\\x0b\\xa6\\x94\\x04\\t\\xf4\\x10,\\xf3z\\xdeQ\\t\\x16\\x05\\x8b\\xa5\\x13Y\\xdc\\x04\\xfbe\\xbb\\xd3\\x98`\\xd4\\x8d\\x93\\xd3\\x9es\\xff\\xa8&\\x1bI\\x9d\\xca\\xaa\\x02+\\xfdn.3\\x05\\x11\\xe6\\x90\\xe6 \\x890]~\\xf4c\\xff\\x8b\\xe7|s\\xea\\xe4\\xeb\\xde\\x88\\xc2\\'\\x0f]6k}aI\\xfe\\t\\xbcl/)\\xf9\\xf5\\xe1@\"\\xdc\\xe8\\xe8t+\\xcf\\x8e1O\\x8a@\\xcd\\xbaQ\\xbf+\\x9f\\x89,\\xbf\\xef \\xd9\\xc5\\xc3}\\xc4\\xa5E\\x8d\\xa7\\xdeQa\\x96\\xb06`\\x0e\\xd5b\\x8c\\x9cI\\x9bQN\\r\\x0e\\xec9\\xc7\\xf7\\xb4\\xd3\\xec\\xce\\xd7\\x03\\x93\\n\\xaeQ\\xd0\\xdb&Q\\xb3\\xe8w\\xc2P\\xdd\\r,0o\\xf3%/\\x0fC\\x99B#1\\xf8\\xf2\\x80\\xec\\xa3/\\xd4\\xe0\\xd2\\xbdSP\\xbe\\xe3\\x14\\t+!\\xcc.\\x9du+\\xfcO\\x1a\\xd5\\x1d\\xfd\\xe7\\xc3G\\xec\\xfd\\xedS8Y~J4\\xb7B<O\\x92\\xca\\xd0\\xa6\\xb2I\\n\\xd8#\\xabU\\x00v@9\\xb0\\x8f\\x9ac>\\xf1\\x85#\\xb1e\\x9a\\x17\\xb1N\\xb6\\x88\\xfc\\t\\x11\\xe8S\\x1b)\\xbd\\xcd\\xc4\\xa4\\x91\\'\\xfa\\x86\\x88\\x9dQ\\x9e\\xac\\x10\\xa0\\x88\\xe4c\\xbc\\xdd\\xa2\\xa9#Nj\\x96\\xebf\\x82\\xef\\x8a\\x073\\xa4\\x19\\xd1\\x87\\xa9 \\xe8Qm~_\\xb6LM\\x91\\xbf!\\xb4\\xd2\\xbc\\x8a\\xb5I'\n",
            "\n",
            "Dekripsi\n",
            "\n",
            "Terpisaholehjarakdalampembelajaranjarakjauh,gurutakbisamemantausiswasebaikketikakegiatanbelajarmengajardilakukandikelas.Tapiinilahsaatyangtepatuntukmendorongsiswaagarbelajarsecaramandiri.Apasebabnya?1.KesempatanuntukBelajartentangBagaimanaCaranyaBelajarTakbisadipungkiri,sebagianpembelajarandikelasbertujuanuntukmempersiapkansiswamenghadapiujian.Makaketikamendapatkesempatanuntukbelajarsecaramandiri,siswamenjalaniprosessendiriuntukmenemukancaranyabelajar–bukansemata-matauntukpersiapanujian.2.FokusBelajarsecaraMandiriTerletakpadaProsesAlih-alihfokuspadatujuan,sebagaimanapembelajarandikelas,belajarsecaramandirimembuatsiswalebihmemperhatikanprosesbelajaryangdijalaninya.Banyaktokohduniayangmenginspirasidenganprosesjatuhbangunyangmerekaalamisebelumakhirnyameraihkesuksesan.Makamenjalaniprosesbelajarnyasendirimerupakanpengalamanberhargabagisiswa.3.FleksibilitasBelajaruntukTingkatIntelegensiyangBerbedaSebagaiguru,menyamakantempobelajardikelassudahmenjaditugassehari-hari.Masing-masingsiswamemangmemilikikecepatanbelajaryangberbeda.Namunmelaluibelajarsecaramandiri,setiapsiswamemilikikesempatanuntukbelajarsesuaidengantempobelajarnyasendiri.4.SiswaMengembangkanBerbagaiLifeSkills,TermasukManajemenWaktuPembelajarandikelasmemberikenyamananbagisiswakarenatakadadistraksiyangberarti.Belajardalamsuasanadiluarkelas,sebaliknya,menuntutsiswauntukpandai-pandaimerencanakan,memilihprioritas,bahkanmengejartenggatditengahbermacamdistraksiyangada.Keterampilanmenghadapiberbagaitantanganbelajariniakandibutuhkanpadamasamerekaberadaduniakerjanantinya.5.SiswaBelajarSesuaidenganMinatnyaSendiriAdasiswayangbelajarkarenatuntutaneksternaldarisekolah.Adapulasiswayangbelajarkarenaminat,motivasiyangtumbuhdaridalamdirinyasendiri.Biladidasariolehminatsendiri,sepertipadabelajarmandiri,hasilbelajarsiswatentulebihbaiklagi.6.SiswaMengenaliKelebihandanKekurangannyaSendiriSeiringbelajarnyasecaramandiri,siswamemilikikesempatanuntukmengenaldirinyasendiridenganlebihbaik.Makaseiringwaktu,siswadapatmengenalikelebihandankekurangannya.Belajarsecaramandirimerupakanprosesbelajaryangjauhdarikenyamanandankesempurnaan,jauhdarisuasanadikelas.Saatbelajarsecaramandiri,takjarangsiswaharusterantukbatuhinggaberulangkali.Namuntempaanketidaknyamanansepertiinilahyangmembuatsiswamenjadipembelajartangguhsepanjanghayatnya.\u000f\u000f\u000f\u000f\u000f\u000f\u000f\u000f\u000f\u000f\u000f\u000f\u000f\u000f\u000f\n"
          ],
          "name": "stdout"
        }
      ]
    }
  ]
}