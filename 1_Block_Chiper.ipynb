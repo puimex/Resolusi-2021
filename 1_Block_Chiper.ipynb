{
  "nbformat": 4,
  "nbformat_minor": 0,
  "metadata": {
    "colab": {
      "name": "1. Block Chiper.ipynb",
      "provenance": [],
      "collapsed_sections": []
    },
    "kernelspec": {
      "name": "python3",
      "display_name": "Python 3"
    },
    "language_info": {
      "name": "python"
    }
  },
  "cells": [
    {
      "cell_type": "markdown",
      "metadata": {
        "id": "Y3l-l7wK9wzv"
      },
      "source": [
        "# **1 Block Chiper**"
      ]
    },
    {
      "cell_type": "markdown",
      "metadata": {
        "id": "9coRy_bw9vDG"
      },
      "source": [
        "**Install Library**"
      ]
    },
    {
      "cell_type": "code",
      "metadata": {
        "colab": {
          "base_uri": "https://localhost:8080/"
        },
        "id": "wftPkGse9sEx",
        "outputId": "4ae535ba-8ff6-488f-82d7-1510696c499c"
      },
      "source": [
        "%pip install pycryptodome\n",
        "%pip install \"pycryptodome==3.9.7\""
      ],
      "execution_count": 1,
      "outputs": [
        {
          "output_type": "stream",
          "text": [
            "Collecting pycryptodome\n",
            "\u001b[?25l  Downloading https://files.pythonhosted.org/packages/ad/16/9627ab0493894a11c68e46000dbcc82f578c8ff06bc2980dcd016aea9bd3/pycryptodome-3.10.1-cp35-abi3-manylinux2010_x86_64.whl (1.9MB)\n",
            "\u001b[K     |████████████████████████████████| 1.9MB 4.3MB/s \n",
            "\u001b[?25hInstalling collected packages: pycryptodome\n",
            "Successfully installed pycryptodome-3.10.1\n",
            "Collecting pycryptodome==3.9.7\n",
            "\u001b[?25l  Downloading https://files.pythonhosted.org/packages/1b/79/f2a9bb60abd1ccd34006bab9a6ebbe03abe8c660366d20be390b85277fb1/pycryptodome-3.9.7-cp37-cp37m-manylinux1_x86_64.whl (13.7MB)\n",
            "\u001b[K     |████████████████████████████████| 13.7MB 204kB/s \n",
            "\u001b[?25hInstalling collected packages: pycryptodome\n",
            "  Found existing installation: pycryptodome 3.10.1\n",
            "    Uninstalling pycryptodome-3.10.1:\n",
            "      Successfully uninstalled pycryptodome-3.10.1\n",
            "Successfully installed pycryptodome-3.9.7\n"
          ],
          "name": "stdout"
        }
      ]
    },
    {
      "cell_type": "markdown",
      "metadata": {
        "id": "BOqBFFqc-Ih5"
      },
      "source": [
        "**Import Ribrary**"
      ]
    },
    {
      "cell_type": "code",
      "metadata": {
        "id": "OfrAhGo--Cg4"
      },
      "source": [
        "from Crypto.Cipher import AES\n",
        "from Crypto.Util.Padding import pad, unpad\n",
        "import binascii"
      ],
      "execution_count": 2,
      "outputs": []
    },
    {
      "cell_type": "code",
      "metadata": {
        "colab": {
          "base_uri": "https://localhost:8080/"
        },
        "id": "HxZPHYwj-OPp",
        "outputId": "05f51ee0-3b69-4aba-97de-8ed633f662d9"
      },
      "source": [
        "#inputs\n",
        "plaintext='Terpisah oleh jarak dalam pembelajaran jarak jauh, guru tak bisa memantau siswa sebaik ketika kegiatan belajar mengajar dilakukan di kelas. Tapi inilah saat yang tepat untuk mendorong siswa agar belajar secara mandiri. Apa sebabnya?1. Kesempatan untuk Belajar tentang Bagaimana Caranya Belajar Tak bisa dipungkiri, sebagian pembelajaran di kelas bertujuan untuk mempersiapkan siswa menghadapi ujian. Maka ketika mendapat kesempatan untuk belajar secara mandiri, siswa menjalani proses sendiri untuk menemukan caranya belajar – bukan semata-mata untuk persiapan ujian. 2. Fokus Belajar secara Mandiri Terletak pada Proses Alih-alih fokus pada tujuan, sebagaimana pembelajaran di kelas, belajar secara mandiri membuat siswa lebih memperhatikan proses belajar yang dijalaninya. Banyak tokoh dunia yang menginspirasi dengan proses jatuh bangun yang mereka alami sebelum akhirnya meraih kesuksesan. Maka menjalani proses belajarnya sendiri merupakan pengalaman berharga bagi siswa. 3. Fleksibilitas Belajar untuk Tingkat Intelegensi yang Berbeda Sebagai guru, menyamakan tempo belajar di kelas sudah menjadi tugas sehari-hari. Masing-masing siswa memang memiliki kecepatan belajar yang berbeda. Namun melalui belajar secara mandiri, setiap siswa memiliki kesempatan untuk belajar sesuai dengan tempo belajarnya sendiri. 4. Siswa Mengembangkan Berbagai Life Skills, Termasuk Manajemen Waktu Pembelajaran di kelas memberi kenyamanan bagi siswa karena tak ada distraksi yang berarti. Belajar dalam suasana di luar kelas, sebaliknya, menuntut siswa untuk pandai-pandai merencanakan, memilih prioritas, bahkan mengejar tenggat ditengah bermacam distraksi yang ada. Keterampilan menghadapi berbagai tantangan belajar ini akan dibutuhkan pada masa mereka berada dunia kerja nantinya. 5. Siswa Belajar Sesuai dengan Minatnya Sendiri Ada siswa yang belajar karena tuntutan eksternal dari sekolah. Ada pula siswa yang belajar karena minat, motivasi yang tumbuh dari dalam dirinya sendiri. Bila didasari oleh minat sendiri, seperti pada belajar mandiri, hasil belajar siswa tentu lebih baik lagi.6. Siswa Mengenali Kelebihan dan Kekurangannya Sendiri Seiring belajarnya secara mandiri, siswa memiliki kesempatan untuk mengenal dirinya sendiri dengan lebih baik. Maka seiring waktu, siswa dapat mengenali kelebihan dan kekurangannya.Belajar secara mandiri merupakan proses belajar yang jauh dari kenyamanan dan kesempurnaan, jauh dari suasana di kelas. Saat belajar secara mandiri, tak jarang siswa harus terantuk batu hingga berulang kali. Namun tempaan ketidaknyamanan seperti inilah yang membuat siswa menjadi pembelajar tangguh sepanjang hayatnya.'\n",
        "# nim terakhir 4 jadi = 0100\n",
        "key = pad(b\"0100\",AES.block_size)\n",
        "iv=pad(b\"10100011\",AES.block_size)\n",
        "\n",
        "plaintext=plaintext.replace(\" \", \"\")\n",
        "print(\"\\nPlaintext\\n\")\n",
        "print(plaintext)\n",
        "\n",
        "\n",
        "#Encryption\n",
        "print(\"\\nEncryption\\n\")\n",
        "def _encrypt(plaintext):\n",
        "    data_bytes=bytes(plaintext,'utf-8')\n",
        "    padded_bytes=pad(data_bytes, AES.block_size)\n",
        "    AES_obj=AES.new(key, AES.MODE_OFB,iv)\n",
        "    ciphertext=AES_obj.encrypt(padded_bytes)\n",
        "    return ciphertext\n",
        "ciphertext=_encrypt(plaintext)\n",
        "# print(ciphertext)\n",
        "print(binascii.hexlify(ciphertext))\n",
        "\n",
        "\n",
        "#Decryption\n",
        "print(\"\\nDecryption\\n\")\n",
        "def _decrypt (ciphertext):\n",
        "    AES_obj=AES.new(key, AES.MODE_OFB,iv)\n",
        "    raw_bytes=AES_obj.decrypt(ciphertext)\n",
        "    extraced_bytes=unpad(raw_bytes,AES.block_size)\n",
        "    return extraced_bytes\n",
        "plaintext=_decrypt(ciphertext)\n",
        "# print (plaintext)\n",
        "print (plaintext.decode())\n"
      ],
      "execution_count": 3,
      "outputs": [
        {
          "output_type": "stream",
          "text": [
            "\n",
            "Plaintext\n",
            "\n",
            "Terpisaholehjarakdalampembelajaranjarakjauh,gurutakbisamemantausiswasebaikketikakegiatanbelajarmengajardilakukandikelas.Tapiinilahsaatyangtepatuntukmendorongsiswaagarbelajarsecaramandiri.Apasebabnya?1.KesempatanuntukBelajartentangBagaimanaCaranyaBelajarTakbisadipungkiri,sebagianpembelajarandikelasbertujuanuntukmempersiapkansiswamenghadapiujian.Makaketikamendapatkesempatanuntukbelajarsecaramandiri,siswamenjalaniprosessendiriuntukmenemukancaranyabelajar–bukansemata-matauntukpersiapanujian.2.FokusBelajarsecaraMandiriTerletakpadaProsesAlih-alihfokuspadatujuan,sebagaimanapembelajarandikelas,belajarsecaramandirimembuatsiswalebihmemperhatikanprosesbelajaryangdijalaninya.Banyaktokohduniayangmenginspirasidenganprosesjatuhbangunyangmerekaalamisebelumakhirnyameraihkesuksesan.Makamenjalaniprosesbelajarnyasendirimerupakanpengalamanberhargabagisiswa.3.FleksibilitasBelajaruntukTingkatIntelegensiyangBerbedaSebagaiguru,menyamakantempobelajardikelassudahmenjaditugassehari-hari.Masing-masingsiswamemangmemilikikecepatanbelajaryangberbeda.Namunmelaluibelajarsecaramandiri,setiapsiswamemilikikesempatanuntukbelajarsesuaidengantempobelajarnyasendiri.4.SiswaMengembangkanBerbagaiLifeSkills,TermasukManajemenWaktuPembelajarandikelasmemberikenyamananbagisiswakarenatakadadistraksiyangberarti.Belajardalamsuasanadiluarkelas,sebaliknya,menuntutsiswauntukpandai-pandaimerencanakan,memilihprioritas,bahkanmengejartenggatditengahbermacamdistraksiyangada.Keterampilanmenghadapiberbagaitantanganbelajariniakandibutuhkanpadamasamerekaberadaduniakerjanantinya.5.SiswaBelajarSesuaidenganMinatnyaSendiriAdasiswayangbelajarkarenatuntutaneksternaldarisekolah.Adapulasiswayangbelajarkarenaminat,motivasiyangtumbuhdaridalamdirinyasendiri.Biladidasariolehminatsendiri,sepertipadabelajarmandiri,hasilbelajarsiswatentulebihbaiklagi.6.SiswaMengenaliKelebihandanKekurangannyaSendiriSeiringbelajarnyasecaramandiri,siswamemilikikesempatanuntukmengenaldirinyasendiridenganlebihbaik.Makaseiringwaktu,siswadapatmengenalikelebihandankekurangannya.Belajarsecaramandirimerupakanprosesbelajaryangjauhdarikenyamanandankesempurnaan,jauhdarisuasanadikelas.Saatbelajarsecaramandiri,takjarangsiswaharusterantukbatuhinggaberulangkali.Namuntempaanketidaknyamanansepertiinilahyangmembuatsiswamenjadipembelajartangguhsepanjanghayatnya.\n",
            "\n",
            "Encryption\n",
            "\n",
            "b'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'\n",
            "\n",
            "Decryption\n",
            "\n",
            "Terpisaholehjarakdalampembelajaranjarakjauh,gurutakbisamemantausiswasebaikketikakegiatanbelajarmengajardilakukandikelas.Tapiinilahsaatyangtepatuntukmendorongsiswaagarbelajarsecaramandiri.Apasebabnya?1.KesempatanuntukBelajartentangBagaimanaCaranyaBelajarTakbisadipungkiri,sebagianpembelajarandikelasbertujuanuntukmempersiapkansiswamenghadapiujian.Makaketikamendapatkesempatanuntukbelajarsecaramandiri,siswamenjalaniprosessendiriuntukmenemukancaranyabelajar–bukansemata-matauntukpersiapanujian.2.FokusBelajarsecaraMandiriTerletakpadaProsesAlih-alihfokuspadatujuan,sebagaimanapembelajarandikelas,belajarsecaramandirimembuatsiswalebihmemperhatikanprosesbelajaryangdijalaninya.Banyaktokohduniayangmenginspirasidenganprosesjatuhbangunyangmerekaalamisebelumakhirnyameraihkesuksesan.Makamenjalaniprosesbelajarnyasendirimerupakanpengalamanberhargabagisiswa.3.FleksibilitasBelajaruntukTingkatIntelegensiyangBerbedaSebagaiguru,menyamakantempobelajardikelassudahmenjaditugassehari-hari.Masing-masingsiswamemangmemilikikecepatanbelajaryangberbeda.Namunmelaluibelajarsecaramandiri,setiapsiswamemilikikesempatanuntukbelajarsesuaidengantempobelajarnyasendiri.4.SiswaMengembangkanBerbagaiLifeSkills,TermasukManajemenWaktuPembelajarandikelasmemberikenyamananbagisiswakarenatakadadistraksiyangberarti.Belajardalamsuasanadiluarkelas,sebaliknya,menuntutsiswauntukpandai-pandaimerencanakan,memilihprioritas,bahkanmengejartenggatditengahbermacamdistraksiyangada.Keterampilanmenghadapiberbagaitantanganbelajariniakandibutuhkanpadamasamerekaberadaduniakerjanantinya.5.SiswaBelajarSesuaidenganMinatnyaSendiriAdasiswayangbelajarkarenatuntutaneksternaldarisekolah.Adapulasiswayangbelajarkarenaminat,motivasiyangtumbuhdaridalamdirinyasendiri.Biladidasariolehminatsendiri,sepertipadabelajarmandiri,hasilbelajarsiswatentulebihbaiklagi.6.SiswaMengenaliKelebihandanKekurangannyaSendiriSeiringbelajarnyasecaramandiri,siswamemilikikesempatanuntukmengenaldirinyasendiridenganlebihbaik.Makaseiringwaktu,siswadapatmengenalikelebihandankekurangannya.Belajarsecaramandirimerupakanprosesbelajaryangjauhdarikenyamanandankesempurnaan,jauhdarisuasanadikelas.Saatbelajarsecaramandiri,takjarangsiswaharusterantukbatuhinggaberulangkali.Namuntempaanketidaknyamanansepertiinilahyangmembuatsiswamenjadipembelajartangguhsepanjanghayatnya.\n"
          ],
          "name": "stdout"
        }
      ]
    }
  ]
}